{
 "cells": [
  {
   "cell_type": "markdown",
   "metadata": {},
   "source": [
    "# Virtual SEM - Set-up Guide\n",
    "\n",
    "K. Makulowich September 28, 2020 University of Toronto\n",
    "\n",
    "Mechanical Attrition (Ball Milling) - Lab 4, MSE459\n",
    "\n",
    "For technical issues: k.makulowich@mail.utoronto.ca\n",
    "\n",
    "This is the set-up guide for the virtual SEM that will be used in Lab 4 - Mechanical Attrition (Ball Milling). Before using the virtual SEM, you must first modify some of the features.\n",
    "\n",
    "## Instructions:\n",
    "\n",
    "1. Open the home directory in a new tab by right-clicking the *Jupyter* icon in the top-left corner and selecting *Open link in new tab*.\n",
    "1. From the home directory, go to: *New > Terminal*.\n",
    "2. Type ```cd VirtualSEM```. Press ```Enter```.\n",
    "3. Type ```chmod u+x config_jn```. Press ```Enter```.\n",
    "4. Type ```./config_jn```. Press ```Enter```.\n",
    "5. This may take a few minutes. Please wait.\n",
    "6. Once completed, you may return to the home directory by clicking the *Jupyter* logo in the top-left and selecting the VirtualSEM file.\n",
    "\n",
    "Below is a video showing these steps - If the video does not load immediately, select the below cell so it is highlighted and press ```shift+enter```:"
   ]
  }
 ],
 "metadata": {
  "kernelspec": {
   "display_name": "Python 3",
   "language": "python",
   "name": "python3"
  },
  "language_info": {
   "codemirror_mode": {
    "name": "ipython",
    "version": 3
   },
   "file_extension": ".py",
   "mimetype": "text/x-python",
   "name": "python",
   "nbconvert_exporter": "python",
   "pygments_lexer": "ipython3",
   "version": "3.7.3"
  },
  "toc": {
   "base_numbering": 1,
   "nav_menu": {},
   "number_sections": true,
   "sideBar": true,
   "skip_h1_title": false,
   "title_cell": "Table of Contents",
   "title_sidebar": "Contents",
   "toc_cell": false,
   "toc_position": {},
   "toc_section_display": true,
   "toc_window_display": false
  }
 },
 "nbformat": 4,
 "nbformat_minor": 2
}
