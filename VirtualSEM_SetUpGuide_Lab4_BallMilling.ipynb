{
 "cells": [
  {
   "cell_type": "markdown",
   "metadata": {},
   "source": [
    "# Virtual SEM - Set-up Guide\n",
    "\n",
    "K. Makulowich November 7th, 2020, University of Toronto\n",
    "\n",
    "Mechanical Attrition (Ball Milling) - Lab 4, MSE459\n",
    "\n",
    "For technical issues: k.makulowich@mail.utoronto.ca\n",
    "\n",
    "This is the set-up guide for the virtual SEM that will be used in Lab 4 - Mechanical Attrition (Ball Milling). Before using the virtual SEM, you must first modify some of the features.\n",
    "\n",
    "Follow the directions below. Alternatively, review the last few minutes of the lab video to see a demonstration."
   ]
  },
  {
   "cell_type": "markdown",
   "metadata": {},
   "source": [
    "## Instructions:\n",
    "\n",
    "1. Open the home directory in a new tab by right-clicking the *Jupyter* icon in the top-left corner and selecting *Open link in new tab*.\n",
    "1. From the home directory, go to: *New > Terminal*.\n",
    "2. Type ```cd MSE459VirtualSEM```. Press ```Enter```.\n",
    "3. Type ```chmod u+x config_jn```. Press ```Enter```.\n",
    "4. Type ```./config_jn```. Press ```Enter```.\n",
    "5. This may take a few minutes. Please wait.\n",
    "6. Once completed, you may return to the home directory by clicking the *Jupyter* logo in the top-left and selecting the *VirtualSEM.ipynb* file."
   ]
  }
 ],
 "metadata": {
  "hide_input": false,
  "kernelspec": {
   "display_name": "Python 3",
   "language": "python",
   "name": "python3"
  },
  "language_info": {
   "codemirror_mode": {
    "name": "ipython",
    "version": 3
   },
   "file_extension": ".py",
   "mimetype": "text/x-python",
   "name": "python",
   "nbconvert_exporter": "python",
   "pygments_lexer": "ipython3",
   "version": "3.7.3"
  },
  "toc": {
   "base_numbering": 1,
   "nav_menu": {},
   "number_sections": true,
   "sideBar": true,
   "skip_h1_title": false,
   "title_cell": "Table of Contents",
   "title_sidebar": "Contents",
   "toc_cell": false,
   "toc_position": {},
   "toc_section_display": true,
   "toc_window_display": false
  }
 },
 "nbformat": 4,
 "nbformat_minor": 2
}
